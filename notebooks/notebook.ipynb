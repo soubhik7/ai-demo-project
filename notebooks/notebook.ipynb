{
 "cells": [
  {
   "cell_type": "code",
   "execution_count": 1,
   "metadata": {},
   "outputs": [
    {
     "name": "stdout",
     "output_type": "stream",
     "text": [
      "Addition: 12.0 + 13.0 = 25.0\n",
      "Subtraction: 12.0 - 13.0 = -1.0\n",
      "Multiplication: 12.0 * 13.0 = 156.0\n",
      "Division: 12.0 / 13.0 = 0.9230769230769231\n"
     ]
    }
   ],
   "source": [
    "# Define the function to perform arithmetic operations\n",
    "def arithmetic_operations(a, b):\n",
    "    # Addition\n",
    "    addition = a + b\n",
    "    \n",
    "    # Subtraction\n",
    "    subtraction = a - b\n",
    "    \n",
    "    # Multiplication\n",
    "    multiplication = a * b\n",
    "    \n",
    "    # Division (handle division by zero)\n",
    "    if b != 0:\n",
    "        division = a / b\n",
    "    else:\n",
    "        division = \"Division by zero is undefined\"\n",
    "    \n",
    "    # Print all results\n",
    "    print(f\"Addition: {a} + {b} = {addition}\")\n",
    "    print(f\"Subtraction: {a} - {b} = {subtraction}\")\n",
    "    print(f\"Multiplication: {a} * {b} = {multiplication}\")\n",
    "    print(f\"Division: {a} / {b} = {division}\")\n",
    "\n",
    "# Example usage\n",
    "a = float(input(\"Enter the first number (a): \"))\n",
    "b = float(input(\"Enter the second number (b): \"))\n",
    "\n",
    "arithmetic_operations(a, b)"
   ]
  },
  {
   "cell_type": "code",
   "execution_count": null,
   "metadata": {},
   "outputs": [],
   "source": []
  }
 ],
 "metadata": {
  "kernelspec": {
   "display_name": ".venv",
   "language": "python",
   "name": "python3"
  },
  "language_info": {
   "codemirror_mode": {
    "name": "ipython",
    "version": 3
   },
   "file_extension": ".py",
   "mimetype": "text/x-python",
   "name": "python",
   "nbconvert_exporter": "python",
   "pygments_lexer": "ipython3",
   "version": "3.12.6"
  }
 },
 "nbformat": 4,
 "nbformat_minor": 2
}
