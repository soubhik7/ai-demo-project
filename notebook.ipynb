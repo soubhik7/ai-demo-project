{
 "cells": [
  {
   "cell_type": "markdown",
   "metadata": {},
   "source": [
    "User Inputs Section"
   ]
  },
  {
   "cell_type": "code",
   "execution_count": 15,
   "metadata": {},
   "outputs": [],
   "source": [
    "# User Inputs\n",
    "\n",
    "# Azure API Configuration\n",
    "subscription_id = \"2b90b9cd-d4b4-486d-a193-5ebee386d284\"  # Set your Azure Subscription ID\n",
    "resource_group = \"learn-fb1d1244-597f-4668-9805-068e67238e43\"    # Set your Azure Resource Group name\n",
    "workflow_name = \"demo-l1\"      # Set your Logic App workflow name\n",
    "bearer_token = \"Bearer eyJ0eXAiOiJKV1QiLCJhbGciOiJSUzI1NiIsIng1dCI6Ikg5bmo1QU9Tc3dNcGhnMVNGeDdqYVYtbEI5dyIsImtpZCI6Ikg5bmo1QU9Tc3dNcGhnMVNGeDdqYVYtbEI5dyJ9.eyJhdWQiOiJodHRwczovL21hbmFnZW1lbnQuY29yZS53aW5kb3dzLm5ldCIsImlzcyI6Imh0dHBzOi8vc3RzLndpbmRvd3MubmV0LzYwNGMxNTA0LWM2YTMtNDA4MC04MWFhLWIzMzA5MTEwNDE4Ny8iLCJpYXQiOjE3MjY5NDAxNDUsIm5iZiI6MTcyNjk0MDE0NSwiZXhwIjoxNzI2OTQ1MDgzLCJhY3IiOiIxIiwiYWlvIjoiQVdRQW0vOFhBQUFBczJKd2krbWtvYUNpdDN4V3YwMXRPMHJKUVlhL2lnTThQM0JmQWZTMjAwQS9GZlh3Vi9HOURadHU5QzZ4UjVwWWRmUWUzeGxiSm5RYnlOREwzZ1ZTZ21mbnRYem9GeUFhSDF6amtldW1MdnZqUG1iRjlGMnhXOG9KU1J2T3MwMEkiLCJhbHRzZWNpZCI6IjE6bGl2ZS5jb206MDAwM0JGRkRENTc3OUNENSIsImFtciI6WyJwd2QiXSwiYXBwaWQiOiIxOGZiY2ExNi0yMjI0LTQ1ZjYtODViMC1mN2JmMmIzOWIzZjMiLCJhcHBpZGFjciI6IjAiLCJlbWFpbCI6InNvdWJoaWttdWtob3BhZGh5YXk0QGdtYWlsLmNvbSIsImZhbWlseV9uYW1lIjoiTVVLSE9QQURIWUFZIiwiZ2l2ZW5fbmFtZSI6IlNPVUJISUsiLCJpZHAiOiJsaXZlLmNvbSIsImlkdHlwIjoidXNlciIsImlwYWRkciI6IjI0MDE6NDkwMDoxYzNmOmYwYzozOTBmOjZmZjI6ZjEyOTo5NzYzIiwibmFtZSI6InNvdWJoaWttdWtob3BhZGh5YXk0Iiwib2lkIjoiN2U5MzhmMzgtZWM3Ny00ZGVkLThlMDAtZjZjNWVhODFlZjhlIiwicHVpZCI6IjEwMDMyMDAzRDFENURFNjIiLCJyaCI6IjAuQVNnQUJCVk1ZS1BHZ0VDQnFyTXdrUkJCaDBaSWYza0F1dGRQdWtQYXdmajJNQk1vQU13LiIsInNjcCI6InVzZXJfaW1wZXJzb25hdGlvbiIsInN1YiI6IkNPNEktRm8zZ3N0Q3cyZUlOZXFpdnBGUlVSOGVidkVkMXczUVRPMmpqSU0iLCJ0aWQiOiI2MDRjMTUwNC1jNmEzLTQwODAtODFhYS1iMzMwOTExMDQxODciLCJ1bmlxdWVfbmFtZSI6ImxpdmUuY29tI3NvdWJoaWttdWtob3BhZGh5YXk0QGdtYWlsLmNvbSIsInV0aSI6Im81UmQ5X09zZlVLX0daUlhnbWhSQUEiLCJ2ZXIiOiIxLjAiLCJ3aWRzIjpbIjEzYmQxYzcyLTZmNGEtNGRjZi05ODVmLTE4ZDNiODBmMjA4YSJdLCJ4bXNfZWRvdiI6dHJ1ZSwieG1zX2lkcmVsIjoiNSAyNiIsInhtc190Y2R0IjoxNTM0Mjc2Mzg1fQ.hfAzlxb3jYuSeQuOLv0RozhH-ZoBuJQuvKNIQjOayI5cwaZ-J8fUFaDkmm31GVzQ6VrHPW1JYhcG-NTNjqY7lRv9b5l1HzpGzJDlQTxYfRIZU2lRSWv-x8pxcBjlEDsmlIPUWpmpgunKouWe2rAS4sS5qht17Zg0AJbcvVupu7uS2--nfP2_Zv9lbqhpGjfF6sn0HDF2Soc8GEbJ5dRH_E9h3uHyVv-BKX670duRZyMg94Mywcd266R5Gm_XNknBU4LF8CWHrbaGZSbBBHV1B7XJ_XRg6QkLMC2qthBuwrK7Jg8HZzL3qiQJFHrSQWBe3pcDaI_-lNDp_WUTTnMmSA\" # Set the Bearer Token for Azure Authentication\n",
    "\n",
    "# Google API Configuration\n",
    "GOOGLE_API_KEY = \"your_google_api_key\"    # Set your Google API Key for generative language model\n",
    "\n",
    "# API URLs (construct dynamically based on inputs)\n",
    "API_VERSION = \"2016-06-01\"\n",
    "RUNS_API_URL = f\"https://management.azure.com/subscriptions/{subscription_id}/resourceGroups/{resource_group}/providers/Microsoft.Logic/workflows/{workflow_name}/runs?api-version={API_VERSION}\"\n",
    "ACTIONS_API_URL_TEMPLATE = f\"https://management.azure.com/subscriptions/{subscription_id}/resourceGroups/{resource_group}/providers/Microsoft.Logic/workflows/{workflow_name}/runs/{{run_id}}/actions?api-version={API_VERSION}\"\n",
    "WORKFLOW_API_URL = f\"https://management.azure.com/subscriptions/{subscription_id}/resourceGroups/{resource_group}/providers/Microsoft.Logic/workflows/{workflow_name}?api-version={API_VERSION}\"\n",
    "\n",
    "# Headers for Azure API Requests\n",
    "headers = {\n",
    "    'Authorization': bearer_token,\n",
    "    'Content-Type': 'application/json'\n",
    "}\n",
    "\n",
    "# Function to handle errors\n",
    "def handle_error(message, status_code=500):\n",
    "    #logging.error(message)  \n",
    "    return {\"error\": message, \"status_code\": status_code}\n"
   ]
  },
  {
   "cell_type": "markdown",
   "metadata": {},
   "source": [
    "Google API Request Function"
   ]
  }
 ],
 "metadata": {
  "kernelspec": {
   "display_name": ".venv",
   "language": "python",
   "name": "python3"
  },
  "language_info": {
   "codemirror_mode": {
    "name": "ipython",
    "version": 3
   },
   "file_extension": ".py",
   "mimetype": "text/x-python",
   "name": "python",
   "nbconvert_exporter": "python",
   "pygments_lexer": "ipython3",
   "version": "3.11.9"
  }
 },
 "nbformat": 4,
 "nbformat_minor": 2
}
